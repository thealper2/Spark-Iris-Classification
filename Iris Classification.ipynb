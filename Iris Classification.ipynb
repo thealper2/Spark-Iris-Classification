{
 "cells": [
  {
   "cell_type": "code",
   "execution_count": null,
   "id": "187e2e64",
   "metadata": {},
   "outputs": [],
   "source": [
    "import findspark\n",
    "findspark.init()"
   ]
  },
  {
   "cell_type": "code",
   "execution_count": null,
   "id": "b3d134ba",
   "metadata": {},
   "outputs": [],
   "source": [
    "from pyspark.sql import SparkSession\n",
    "\n",
    "spark = SparkSession.builder \\\n",
    ".master(\"local[4]\") \\\n",
    ".appName(\"IrisClassification\") \\\n",
    ".config(\"spark.executor.memory\", \"1g\") \\\n",
    ".config(\"spark.driver.memory\", \"1g\") \\\n",
    ".getOrCreate()"
   ]
  },
  {
   "cell_type": "code",
   "execution_count": null,
   "id": "bae7976a",
   "metadata": {},
   "outputs": [],
   "source": [
    "iris = spark.read \\\n",
    ".option(\"header\", True) \\\n",
    ".option(\"inferSchema\", True) \\\n",
    ".option(\"sep\", \",\") \\\n",
    ".csv(\"/home/alper/Spark/data/iris.csv\")"
   ]
  },
  {
   "cell_type": "code",
   "execution_count": null,
   "id": "763622f0",
   "metadata": {},
   "outputs": [],
   "source": [
    "iris.limit(5).toPandas().head()"
   ]
  },
  {
   "cell_type": "code",
   "execution_count": null,
   "id": "fb2a1dfc",
   "metadata": {},
   "outputs": [],
   "source": [
    "iris.count()"
   ]
  },
  {
   "cell_type": "code",
   "execution_count": null,
   "id": "cf876cb0",
   "metadata": {},
   "outputs": [],
   "source": [
    "iris.printSchema()"
   ]
  },
  {
   "cell_type": "code",
   "execution_count": null,
   "id": "04a3a04e",
   "metadata": {},
   "outputs": [],
   "source": [
    "numeric = [\"sepal_length\", \"sepal_width\", \"petal_length\", \"petal_width\"]\n",
    "categorical = [\"species\"]"
   ]
  },
  {
   "cell_type": "code",
   "execution_count": null,
   "id": "04ca0e2a",
   "metadata": {},
   "outputs": [],
   "source": [
    "iris.describe(numeric).toPandas()"
   ]
  },
  {
   "cell_type": "code",
   "execution_count": null,
   "id": "c92ba17d",
   "metadata": {},
   "outputs": [],
   "source": [
    "from pyspark.sql import functions as F"
   ]
  },
  {
   "cell_type": "code",
   "execution_count": null,
   "id": "4b5d680f",
   "metadata": {},
   "outputs": [],
   "source": [
    "iris.groupBy(F.col(\"species\")).agg({\"*\": \"count\"}).toPandas()"
   ]
  },
  {
   "cell_type": "code",
   "execution_count": null,
   "id": "0f70243d",
   "metadata": {},
   "outputs": [],
   "source": [
    "null_count = 1\n",
    "for column in iris.columns:\n",
    "    if (iris.filter(F.col(column).isNull()).count() > 0):\n",
    "        print(null_count, \". \", column, \" has null.\")\n",
    "    else:\n",
    "        print(null_count, \". \", column)\n",
    "        \n",
    "    null_count += 1"
   ]
  },
  {
   "cell_type": "code",
   "execution_count": null,
   "id": "9888cf05",
   "metadata": {},
   "outputs": [],
   "source": [
    "from pyspark.ml.feature import StringIndexer, VectorAssembler"
   ]
  },
  {
   "cell_type": "code",
   "execution_count": null,
   "id": "7922f620",
   "metadata": {},
   "outputs": [],
   "source": [
    "species_indexer = StringIndexer() \\\n",
    ".setInputCol(\"species\") \\\n",
    ".setOutputCol(\"label\")"
   ]
  },
  {
   "cell_type": "code",
   "execution_count": null,
   "id": "7bb44f7b",
   "metadata": {},
   "outputs": [],
   "source": [
    "iris = species_indexer.fit(iris).transform(iris)"
   ]
  },
  {
   "cell_type": "code",
   "execution_count": null,
   "id": "ef455eaa",
   "metadata": {},
   "outputs": [],
   "source": [
    "iris.toPandas().head()"
   ]
  },
  {
   "cell_type": "code",
   "execution_count": null,
   "id": "7693c4e2",
   "metadata": {},
   "outputs": [],
   "source": [
    "assembler = VectorAssembler() \\\n",
    ".setInputCols(numeric) \\\n",
    ".setOutputCol(\"features\")"
   ]
  },
  {
   "cell_type": "code",
   "execution_count": null,
   "id": "b433509c",
   "metadata": {},
   "outputs": [],
   "source": [
    "iris = assembler.transform(iris)"
   ]
  },
  {
   "cell_type": "code",
   "execution_count": null,
   "id": "935c5df7",
   "metadata": {},
   "outputs": [],
   "source": [
    "iris.toPandas().head()"
   ]
  },
  {
   "cell_type": "code",
   "execution_count": null,
   "id": "d3a88f2b",
   "metadata": {},
   "outputs": [],
   "source": [
    "train_df, test_df = iris.randomSplit([0.8, 0.2], seed=4242)"
   ]
  },
  {
   "cell_type": "code",
   "execution_count": null,
   "id": "e9ad081e",
   "metadata": {},
   "outputs": [],
   "source": [
    "print(\"Train: \", train_df.count())\n",
    "print(\"Test: \", test_df.count())"
   ]
  },
  {
   "cell_type": "code",
   "execution_count": null,
   "id": "6cb16fc8",
   "metadata": {},
   "outputs": [],
   "source": [
    "from pyspark.ml.classification import LogisticRegression"
   ]
  },
  {
   "cell_type": "code",
   "execution_count": null,
   "id": "5edb4280",
   "metadata": {},
   "outputs": [],
   "source": [
    "logreg_object = LogisticRegression() \\\n",
    ".setLabelCol(\"label\") \\\n",
    ".setFeaturesCol(\"features\")"
   ]
  },
  {
   "cell_type": "code",
   "execution_count": null,
   "id": "a9bbb1b5",
   "metadata": {},
   "outputs": [],
   "source": [
    "model = logreg_object.fit(train_df)"
   ]
  },
  {
   "cell_type": "code",
   "execution_count": null,
   "id": "434b810a",
   "metadata": {},
   "outputs": [],
   "source": [
    "transformedDF = model.transform(test_df)"
   ]
  },
  {
   "cell_type": "code",
   "execution_count": null,
   "id": "69873876",
   "metadata": {},
   "outputs": [],
   "source": [
    "transformedDF.limit(5).toPandas().head()"
   ]
  },
  {
   "cell_type": "code",
   "execution_count": null,
   "id": "99461cd2",
   "metadata": {},
   "outputs": [],
   "source": [
    "from pyspark.ml.evaluation import MulticlassClassificationEvaluator"
   ]
  },
  {
   "cell_type": "code",
   "execution_count": null,
   "id": "f75473ed",
   "metadata": {},
   "outputs": [],
   "source": [
    "multi = MulticlassClassificationEvaluator() \\\n",
    ".setLabelCol(\"label\") \\\n",
    ".setPredictionCol(\"prediction\") \\\n",
    ".setMetricName(\"accuracy\")"
   ]
  },
  {
   "cell_type": "code",
   "execution_count": null,
   "id": "b55a58ac",
   "metadata": {},
   "outputs": [],
   "source": [
    "accuracy = multi.evaluate(transformedDF)"
   ]
  },
  {
   "cell_type": "code",
   "execution_count": null,
   "id": "6c976b23",
   "metadata": {},
   "outputs": [],
   "source": [
    "accuracy"
   ]
  },
  {
   "cell_type": "code",
   "execution_count": null,
   "id": "adc45f95",
   "metadata": {},
   "outputs": [],
   "source": []
  }
 ],
 "metadata": {
  "kernelspec": {
   "display_name": "Python 3 (ipykernel)",
   "language": "python",
   "name": "python3"
  },
  "language_info": {
   "codemirror_mode": {
    "name": "ipython",
    "version": 3
   },
   "file_extension": ".py",
   "mimetype": "text/x-python",
   "name": "python",
   "nbconvert_exporter": "python",
   "pygments_lexer": "ipython3",
   "version": "3.10.6"
  }
 },
 "nbformat": 4,
 "nbformat_minor": 5
}
